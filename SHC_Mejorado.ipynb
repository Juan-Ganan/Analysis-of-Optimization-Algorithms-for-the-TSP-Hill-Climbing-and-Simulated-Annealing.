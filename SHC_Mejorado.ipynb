{
  "nbformat": 4,
  "nbformat_minor": 0,
  "metadata": {
    "colab": {
      "provenance": [],
      "authorship_tag": "ABX9TyM2qHQhtetlfRdUQ+WWF5Xt",
      "include_colab_link": true
    },
    "kernelspec": {
      "name": "python3",
      "display_name": "Python 3"
    },
    "language_info": {
      "name": "python"
    }
  },
  "cells": [
    {
      "cell_type": "markdown",
      "metadata": {
        "id": "view-in-github",
        "colab_type": "text"
      },
      "source": [
        "<a href=\"https://colab.research.google.com/github/Juan-Ganan/Analysis-of-Optimization-Algorithms-for-the-TSP-Hill-Climbing-and-Simulated-Annealing./blob/main/SHC_Mejorado.ipynb\" target=\"_parent\"><img src=\"https://colab.research.google.com/assets/colab-badge.svg\" alt=\"Open In Colab\"/></a>"
      ]
    },
    {
      "cell_type": "code",
      "execution_count": 1,
      "metadata": {
        "colab": {
          "base_uri": "https://localhost:8080/"
        },
        "collapsed": true,
        "id": "mYOgMDCowegg",
        "outputId": "eb14a867-83f7-40cf-9985-d1d34b6c23fa"
      },
      "outputs": [
        {
          "output_type": "stream",
          "name": "stdout",
          "text": [
            "Collecting tsplib95\n",
            "  Downloading tsplib95-0.7.1-py2.py3-none-any.whl.metadata (6.3 kB)\n",
            "Requirement already satisfied: Click>=6.0 in /usr/local/lib/python3.11/dist-packages (from tsplib95) (8.1.8)\n",
            "Requirement already satisfied: Deprecated~=1.2.9 in /usr/local/lib/python3.11/dist-packages (from tsplib95) (1.2.18)\n",
            "Collecting networkx~=2.1 (from tsplib95)\n",
            "  Downloading networkx-2.8.8-py3-none-any.whl.metadata (5.1 kB)\n",
            "Collecting tabulate~=0.8.7 (from tsplib95)\n",
            "  Downloading tabulate-0.8.10-py3-none-any.whl.metadata (25 kB)\n",
            "Requirement already satisfied: wrapt<2,>=1.10 in /usr/local/lib/python3.11/dist-packages (from Deprecated~=1.2.9->tsplib95) (1.17.2)\n",
            "Downloading tsplib95-0.7.1-py2.py3-none-any.whl (25 kB)\n",
            "Downloading networkx-2.8.8-py3-none-any.whl (2.0 MB)\n",
            "\u001b[2K   \u001b[90m━━━━━━━━━━━━━━━━━━━━━━━━━━━━━━━━━━━━━━━━\u001b[0m \u001b[32m2.0/2.0 MB\u001b[0m \u001b[31m14.3 MB/s\u001b[0m eta \u001b[36m0:00:00\u001b[0m\n",
            "\u001b[?25hDownloading tabulate-0.8.10-py3-none-any.whl (29 kB)\n",
            "Installing collected packages: tabulate, networkx, tsplib95\n",
            "  Attempting uninstall: tabulate\n",
            "    Found existing installation: tabulate 0.9.0\n",
            "    Uninstalling tabulate-0.9.0:\n",
            "      Successfully uninstalled tabulate-0.9.0\n",
            "  Attempting uninstall: networkx\n",
            "    Found existing installation: networkx 3.4.2\n",
            "    Uninstalling networkx-3.4.2:\n",
            "      Successfully uninstalled networkx-3.4.2\n",
            "\u001b[31mERROR: pip's dependency resolver does not currently take into account all the packages that are installed. This behaviour is the source of the following dependency conflicts.\n",
            "torch 2.5.1+cu124 requires nvidia-cublas-cu12==12.4.5.8; platform_system == \"Linux\" and platform_machine == \"x86_64\", but you have nvidia-cublas-cu12 12.5.3.2 which is incompatible.\n",
            "torch 2.5.1+cu124 requires nvidia-cuda-cupti-cu12==12.4.127; platform_system == \"Linux\" and platform_machine == \"x86_64\", but you have nvidia-cuda-cupti-cu12 12.5.82 which is incompatible.\n",
            "torch 2.5.1+cu124 requires nvidia-cuda-nvrtc-cu12==12.4.127; platform_system == \"Linux\" and platform_machine == \"x86_64\", but you have nvidia-cuda-nvrtc-cu12 12.5.82 which is incompatible.\n",
            "torch 2.5.1+cu124 requires nvidia-cuda-runtime-cu12==12.4.127; platform_system == \"Linux\" and platform_machine == \"x86_64\", but you have nvidia-cuda-runtime-cu12 12.5.82 which is incompatible.\n",
            "torch 2.5.1+cu124 requires nvidia-cudnn-cu12==9.1.0.70; platform_system == \"Linux\" and platform_machine == \"x86_64\", but you have nvidia-cudnn-cu12 9.3.0.75 which is incompatible.\n",
            "torch 2.5.1+cu124 requires nvidia-cufft-cu12==11.2.1.3; platform_system == \"Linux\" and platform_machine == \"x86_64\", but you have nvidia-cufft-cu12 11.2.3.61 which is incompatible.\n",
            "torch 2.5.1+cu124 requires nvidia-curand-cu12==10.3.5.147; platform_system == \"Linux\" and platform_machine == \"x86_64\", but you have nvidia-curand-cu12 10.3.6.82 which is incompatible.\n",
            "torch 2.5.1+cu124 requires nvidia-cusolver-cu12==11.6.1.9; platform_system == \"Linux\" and platform_machine == \"x86_64\", but you have nvidia-cusolver-cu12 11.6.3.83 which is incompatible.\n",
            "torch 2.5.1+cu124 requires nvidia-cusparse-cu12==12.3.1.170; platform_system == \"Linux\" and platform_machine == \"x86_64\", but you have nvidia-cusparse-cu12 12.5.1.3 which is incompatible.\n",
            "torch 2.5.1+cu124 requires nvidia-nvjitlink-cu12==12.4.127; platform_system == \"Linux\" and platform_machine == \"x86_64\", but you have nvidia-nvjitlink-cu12 12.5.82 which is incompatible.\n",
            "nx-cugraph-cu12 24.12.0 requires networkx>=3.2, but you have networkx 2.8.8 which is incompatible.\n",
            "scikit-image 0.25.2 requires networkx>=3.0, but you have networkx 2.8.8 which is incompatible.\n",
            "bigframes 1.38.0 requires tabulate>=0.9, but you have tabulate 0.8.10 which is incompatible.\u001b[0m\u001b[31m\n",
            "\u001b[0mSuccessfully installed networkx-2.8.8 tabulate-0.8.10 tsplib95-0.7.1\n"
          ]
        }
      ],
      "source": [
        "!pip install tsplib95"
      ]
    },
    {
      "cell_type": "code",
      "source": [
        "import tsplib95\n",
        "import networkx as nx\n",
        "import matplotlib.pyplot as plt\n",
        "import time"
      ],
      "metadata": {
        "id": "Tfhzlc7-wjQT"
      },
      "execution_count": 2,
      "outputs": []
    },
    {
      "cell_type": "code",
      "source": [
        "def load_tsp(filename):\n",
        "  '''Carga el problema TSP desde un archivo tsplib'''\n",
        "  problem = tsplib95.load(filename)\n",
        "  return problem\n",
        "\n",
        "def plot_tsp(problem):\n",
        "  '''Display el grafo del problema TSP con network y matplotlib'''\n",
        "  G = problem.get_graph()\n",
        "\n",
        "  if 'node_coords' in problem.as_dict():\n",
        "    pos = problem.node_coords\n",
        "  else:\n",
        "    pos = nx.spring_layout(G)\n",
        "\n",
        "  plt.figure(figsize=(8, 6))\n",
        "  nx.draw(G, pos, with_labels=True, node_color='lightblue', edge_color='gray', node_size=30)\n",
        "  plt.title('Visualización del TSP')\n",
        "  plt.show()"
      ],
      "metadata": {
        "id": "PrQao23qwolR"
      },
      "execution_count": 3,
      "outputs": []
    },
    {
      "cell_type": "code",
      "source": [
        "import networkx as nx\n",
        "import math\n",
        "\n",
        "# Función para calcular la distancia euclidiana entre dos puntos (x1, y1) y (x2, y2)\n",
        "def calcular_distancia(punto1, punto2):\n",
        "    return math.sqrt((punto1[0] - punto2[0])**2 + (punto1[1] - punto2[1])**2)\n",
        "\n",
        "# Crear un grafo vacío\n",
        "problemHC = nx.Graph()\n",
        "\n",
        "# Abrir y leer el archivo TSP\n",
        "with open('att48.tsp', 'r') as file:\n",
        "    lineas = file.readlines()\n",
        "\n",
        "    # Leer las coordenadas de los nodos\n",
        "    puntos = {}\n",
        "    leyendo = False\n",
        "    for linea in lineas:\n",
        "        if linea.startswith(\"NODE_COORD_SECTION\"):\n",
        "            leyendo = True\n",
        "        elif linea.startswith(\"EOF\"):\n",
        "            break\n",
        "        elif leyendo:\n",
        "            datos = linea.split()\n",
        "            nodo = int(datos[0])\n",
        "            x = float(datos[1])\n",
        "            y = float(datos[2])\n",
        "            puntos[nodo] = (x, y)\n",
        "\n",
        "# Agregar los nodos y las aristas al grafo\n",
        "for nodo1, coord1 in puntos.items():\n",
        "    for nodo2, coord2 in puntos.items():\n",
        "        if nodo1 != nodo2:  # Evitar la auto-conexión\n",
        "            distancia = calcular_distancia(coord1, coord2)\n",
        "            problemHC.add_edge(nodo1, nodo2, weight=distancia)"
      ],
      "metadata": {
        "id": "9yQ-_PMawsZY"
      },
      "execution_count": 5,
      "outputs": []
    },
    {
      "cell_type": "code",
      "source": [
        "import random\n",
        "import math\n",
        "import networkx as nx\n",
        "\n",
        "def calcular_costo(recorrido, grafo):\n",
        "    costo = 0\n",
        "    costo = sum(grafo[recorrido[i]][recorrido[i+1]]['weight'] for i in range(len(recorrido)-1))\n",
        "    costo += grafo[recorrido[-1]][recorrido[0]]['weight']\n",
        "    return costo\n",
        "\n",
        "\n",
        "def generar_vecino(recorrido):\n",
        "    i, j = sorted(random.sample(range(len(recorrido)), 2))\n",
        "    nuevo_recorrido = recorrido[:i] + recorrido[i:j+1][::-1] + recorrido[j+1:]\n",
        "    return nuevo_recorrido\n",
        "\n",
        "def simulated_annealing_tsp(grafo, temp_inicial=1000, temp_final=1, factor_enfriamiento=0.995, max_iteraciones=1000):\n",
        "    nodos = list(grafo.nodes())\n",
        "    recorrido_actual = random.sample(nodos, len(nodos))\n",
        "    costo_actual = calcular_costo(recorrido_actual, grafo)\n",
        "    history = [costo_actual]\n",
        "    temperatura = temp_inicial\n",
        "\n",
        "    while temperatura > temp_final:\n",
        "        iteraciones_por_temperatura = max_iteraciones * temperatura / temp_inicial\n",
        "\n",
        "        for _ in range(int(iteraciones_por_temperatura)):\n",
        "            vecino = generar_vecino(recorrido_actual)\n",
        "            costo_vecino = calcular_costo(vecino, grafo)\n",
        "            delta = costo_vecino - costo_actual\n",
        "            if delta < 0 or random.random() < math.exp(-delta / temperatura):\n",
        "                recorrido_actual = vecino\n",
        "                costo_actual = costo_vecino\n",
        "            history.append(costo_actual)\n",
        "\n",
        "        temperatura *= factor_enfriamiento\n",
        "\n",
        "    return recorrido_actual, costo_actual, history"
      ],
      "metadata": {
        "id": "htKw62zQyITQ"
      },
      "execution_count": 35,
      "outputs": []
    },
    {
      "cell_type": "code",
      "source": [
        "problem = load_tsp('att48.tsp')\n",
        "# Get networkx graph from problem\n",
        "graph = problem.get_graph()\n",
        "# Get node coordinates if available\n",
        "if 'node_coords' in problem.as_dict():\n",
        "  puntos = problem.node_coords\n",
        "else:\n",
        "  puntos = nx.spring_layout(graph)\n",
        "recorrido, costo, history = simulated_annealing_tsp(graph)\n",
        "print(\"Mejor recorrido:\", recorrido)\n",
        "print(\"Costo del recorrido:\", costo)"
      ],
      "metadata": {
        "colab": {
          "base_uri": "https://localhost:8080/"
        },
        "id": "CdyMF4j7_RY_",
        "outputId": "f55b1394-c8c6-4d03-b6e0-54c8b6c12926"
      },
      "execution_count": 44,
      "outputs": [
        {
          "output_type": "stream",
          "name": "stdout",
          "text": [
            "Mejor recorrido: [43, 17, 27, 19, 37, 6, 28, 7, 18, 44, 31, 38, 9, 8, 1, 22, 16, 3, 23, 13, 25, 14, 34, 41, 29, 2, 26, 4, 35, 45, 10, 24, 42, 5, 48, 39, 32, 21, 47, 11, 40, 15, 12, 20, 33, 46, 36, 30]\n",
            "Costo del recorrido: 10797\n"
          ]
        }
      ]
    },
    {
      "cell_type": "code",
      "source": [
        "import random\n",
        "import math\n",
        "import networkx as nx\n",
        "\n",
        "def calcular_costo_incremental(recorrido, grafo, i=None, j=None):\n",
        "\n",
        "    costo = 0\n",
        "    if i is None or j is None:\n",
        "        costo = sum(grafo[recorrido[i]][recorrido[i+1]]['weight'] for i in range(len(recorrido)-1))\n",
        "        costo += grafo[recorrido[-1]][recorrido[0]]['weight']  # Costo de vuelta al inicio\n",
        "    else:\n",
        "\n",
        "        costo -= grafo[recorrido[i-1]][recorrido[i]]['weight']  # Quitamos el antiguo costo\n",
        "        costo -= grafo[recorrido[j]][recorrido[(j+1) % len(recorrido)]]['weight']\n",
        "        recorrido[i:j+1] = recorrido[i:j+1][::-1]  # Revertimos el segmento\n",
        "        costo += grafo[recorrido[i-1]][recorrido[i]]['weight']  # Sumamos el nuevo costo\n",
        "        costo += grafo[recorrido[j]][recorrido[(j+1) % len(recorrido)]]['weight']\n",
        "    return costo\n",
        "\n",
        "def generar_vecino(recorrido):\n",
        "    i, j = sorted(random.sample(range(len(recorrido)), 2))\n",
        "    return recorrido[:i] + recorrido[i:j+1][::-1] + recorrido[j+1:]\n",
        "\n",
        "# Hill Climbing mejorado para TSP\n",
        "def hill_climbing_tsp(grafo, max_iteraciones=100000):\n",
        "    nodos = list(grafo.nodes())\n",
        "    recorrido_actual = random.sample(nodos, len(nodos))\n",
        "    costo_actual = calcular_costo_incremental(recorrido_actual, grafo) # Cálculo inicial optimizado\n",
        "    history = [costo_actual]\n",
        "\n",
        "    for _ in range(max_iteraciones):\n",
        "        vecino = generar_vecino(recorrido_actual)\n",
        "        costo_vecino = calcular_costo_incremental(vecino, grafo)\n",
        "\n",
        "        if costo_vecino < costo_actual:\n",
        "            recorrido_actual = vecino\n",
        "            costo_actual = costo_vecino\n",
        "        history.append(costo_actual)\n",
        "\n",
        "    return recorrido_actual, costo_actual, history\n"
      ],
      "metadata": {
        "id": "n0Mb1viMCcda"
      },
      "execution_count": 38,
      "outputs": []
    },
    {
      "cell_type": "code",
      "source": [
        "problem = load_tsp('att48.tsp')\n",
        "\n",
        "graph = problem.get_graph()\n",
        "\n",
        "if 'node_coords' in problem.as_dict():\n",
        "  puntos = problem.node_coords\n",
        "else:\n",
        "  puntos = nx.spring_layout(graph)\n",
        "recorrido, costo, history = hill_climbing_tsp(graph)\n",
        "print(\"Mejor recorrido:\", recorrido)\n",
        "print(\"Costo del recorrido:\", costo)"
      ],
      "metadata": {
        "colab": {
          "base_uri": "https://localhost:8080/"
        },
        "id": "xvUePfugCeEw",
        "outputId": "d6e0e18a-c4ce-4cf7-c2f9-907ff702e5dd"
      },
      "execution_count": 45,
      "outputs": [
        {
          "output_type": "stream",
          "name": "stdout",
          "text": [
            "Mejor recorrido: [5, 48, 39, 25, 14, 13, 12, 11, 23, 3, 34, 41, 16, 22, 1, 8, 9, 40, 15, 46, 38, 31, 44, 18, 7, 28, 6, 37, 19, 27, 17, 43, 30, 36, 33, 20, 47, 21, 32, 24, 10, 45, 35, 4, 26, 42, 2, 29]\n",
            "Costo del recorrido: 11199\n"
          ]
        }
      ]
    }
  ]
}